{
 "cells": [
  {
   "cell_type": "code",
   "execution_count": 1,
   "id": "ae72f4ea-1a5c-4967-9a34-286591e38550",
   "metadata": {},
   "outputs": [
    {
     "name": "stdout",
     "output_type": "stream",
     "text": [
      "tusmuertos\n"
     ]
    }
   ],
   "source": [
    "print(\"tusmuertos\")"
   ]
  },
  {
   "cell_type": "code",
   "execution_count": null,
   "id": "0ad5ab14-3f2a-4d14-b124-978a4abed01b",
   "metadata": {},
   "outputs": [],
   "source": [
    "#Hola mamelones\n"
   ]
  },
  {
   "cell_type": "code",
   "execution_count": null,
   "metadata": {},
   "outputs": [],
   "source": []
  }
 ],
 "metadata": {
  "kernelspec": {
   "display_name": "Python 3 (ipykernel)",
   "language": "python",
   "name": "python3"
  },
  "language_info": {
   "codemirror_mode": {
    "name": "ipython",
    "version": 3
   },
   "file_extension": ".py",
   "mimetype": "text/x-python",
   "name": "python",
   "nbconvert_exporter": "python",
   "pygments_lexer": "ipython3",
   "version": "3.11.8"
  }
 },
 "nbformat": 4,
 "nbformat_minor": 5
}
